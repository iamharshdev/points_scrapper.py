{
 "cells": [
  {
   "cell_type": "code",
   "execution_count": 42,
   "metadata": {},
   "outputs": [
    {
     "name": "stdout",
     "output_type": "stream",
     "text": [
      "[{'title': 'Covid-19: RPF personnel to make 2,000 facial masks for needy peopl', 'link': 'https://www.aninews.in//news/national/general-news/covid-19-rpf-personnel-to-make-2000-facial-masks-for-needy-people-in-mumbai20200328183136', 'img': 'https://aniportalimages.s3.amazonaws.com/media/details/mum_28march.jpg'}, {'title': 'Gurugram real estate developers laud RBI measures', 'link': 'https://www.aninews.in//news/business/gurugram-real-estate-developers-laud-rbi-measures20200328182239', 'img': 'https://aniportalimages.s3.amazonaws.com/media/details/Pioneer_Urban_Land_and_Infrastructure_Ltd._wSxLXi0.jpg'}, {'title': 'Yuvraj Singh-backed Healthians joins hands with Likee to empower m', 'link': 'https://www.aninews.in//news/sports/others/yuvraj-singh-backed-healthians-joins-hands-with-likee-to-empower-millions-to-combat-covid-1920200328182150', 'img': 'https://aniportalimages.s3.amazonaws.com/media/details/Yuvi_mar28_NsmidCe.jpg'}, {'title': 'ABVP ropes in its cadre to aid students amid COVID-19 lockdown', 'link': 'https://www.aninews.in//news/national/general-news/abvp-ropes-in-its-cadre-to-aid-students-amid-covid-19-lockdown20200328181947', 'img': 'https://aniportalimages.s3.amazonaws.com/media/details/ABVP.jpg'}, {'title': '4 new coronavirus positive cases reported in Rajasthan', 'link': 'https://www.aninews.in//news/national/general-news/4-new-coronavirus-positive-cases-reported-in-rajasthan20200328181918', 'img': 'https://aniportalimages.s3.amazonaws.com/media/details/coronavirus_1yxpKsG.jpg'}, {'title': 'Telangana govt allows essential manufacturing units to operate dur', 'link': 'https://www.aninews.in//news/national/general-news/telangana-govt-allows-essential-manufacturing-units-to-operate-during-lockdown20200328181850', 'img': 'https://aniportalimages.s3.amazonaws.com/media/details/TSgovt_QHhy5eX.jpg'}, {'title': 'All BJP MPs to donate Rs 1 crore from MPLADS funds to Central Reli', 'link': 'https://www.aninews.in//news/national/general-news/all-bjp-mps-to-donate-rs-1-crore-from-mplads-funds-to-central-relief-fund-for-coronavirus-relief-nadda20200328181428', 'img': 'https://aniportalimages.s3.amazonaws.com/media/details/Nadd_march28-thumbnail-320x180.png'}, {'title': 'People violating lockdown to be sent to quarantine centres: Rachak', 'link': 'https://www.aninews.in//news/national/general-news/people-violating-lockdown-to-be-sent-to-quarantine-centres-rachakonda-commissioner20200328181414', 'img': 'https://aniportalimages.s3.amazonaws.com/media/details/CP_86BFose_Jeq5J0Y.jpg'}, {'title': 'Truck drivers leave migrant workers midway as they failed to pay m', 'link': 'https://www.aninews.in//news/national/general-news/truck-drivers-leave-migrant-workers-midway-as-they-failed-to-pay-money20200328180608', 'img': 'https://aniportalimages.s3.amazonaws.com/media/details/truck_nag_mar_28.jpg'}, {'title': 'Set up COVID-19 National Teleconsultation Centre for doctors while', 'link': 'https://www.aninews.in//news/national/general-news/set-up-covid-19-national-teleconsultation-centre-for-doctors-while-treating-patients-harsh-vardhan20200328180532', 'img': 'https://aniportalimages.s3.amazonaws.com/media/details/harsh-vardhan_0YsC9L3_d1ANG16.jpg'}, {'title': 'Delhi govt built capacity to feed 4 lakh people, says Kejriwal', 'link': 'https://www.aninews.in//news/national/general-news/delhi-govt-built-capacity-to-feed-4-lakh-people-says-kejriwal20200328180455', 'img': 'https://aniportalimages.s3.amazonaws.com/media/details/kejri_mar_28_ani_1.jpg'}, {'title': '8 new COVID-19 positive cases in Maharashtra; tally rises to 167: ', 'link': 'https://www.aninews.in//news/national/general-news/8-new-covid-19-positive-cases-in-maharashtra-tally-rises-to-167-state-health-ministry20200328180049', 'img': 'https://aniportalimages.s3.amazonaws.com/media/details/coronavirus_march28.jpg'}]\n"
     ]
    }
   ],
   "source": [
    "import bs4\n",
    "from bs4 import BeautifulSoup\n",
    "import requests as rq\n",
    "import random\n",
    "from random import randint\n",
    "\n",
    "r=[]\n",
    "anilink='https://www.aninews.in/topic/coronavirus/'\n",
    "ani=rq.get(anilink)\n",
    "soap=bs4.BeautifulSoup(ani.content,'html.parser')\n",
    "anidiv=soap.find_all('div',class_='card')\n",
    "for b in anidiv:\n",
    "    if(b.img):\n",
    "        aniimg=b.img\n",
    "        aniimg=aniimg.get('data-src')\n",
    "        aniimg=aniimg.replace('/__sized__/','/')\n",
    "        aniimg=aniimg.replace('-thumbnail-320x180-70.','.')\n",
    "    else:\n",
    "        aniimg='https://raw.githubusercontent.com/theuitown/COROAPIWEB/master/20200328_183732_0000.png'\n",
    "    tit=b.h6\n",
    "    try:\n",
    "        tit=tit.text\n",
    "    except:\n",
    "        continue\n",
    "    aani=b.a\n",
    "    try:\n",
    "        aani=aani.get('href')\n",
    "        aani='https://www.aninews.in/'+aani\n",
    "    except:\n",
    "        continue\n",
    "    r.append({'title':tit,'link':aani,'img':aniimg})\n",
    "print(r)    "
   ]
  },
  {
   "cell_type": "code",
   "execution_count": null,
   "metadata": {},
   "outputs": [],
   "source": []
  }
 ],
 "metadata": {
  "kernelspec": {
   "display_name": "Python 3",
   "language": "python",
   "name": "python3"
  },
  "language_info": {
   "codemirror_mode": {
    "name": "ipython",
    "version": 3
   },
   "file_extension": ".py",
   "mimetype": "text/x-python",
   "name": "python",
   "nbconvert_exporter": "python",
   "pygments_lexer": "ipython3",
   "version": "3.7.4"
  }
 },
 "nbformat": 4,
 "nbformat_minor": 4
}
