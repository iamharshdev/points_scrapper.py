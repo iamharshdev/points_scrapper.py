{
 "cells": [
  {
   "cell_type": "code",
   "execution_count": 13,
   "metadata": {},
   "outputs": [
    {
     "name": "stdout",
     "output_type": "stream",
     "text": [
      "[{'title': 'Brunei reports first coronavirus death', 'link': 'https://www.reuters.com/article/idUSKBN21D2TN/article/idUSKBN21F02K', 'img': 'https://source.unsplash.com/featured/?coronavirus'}, {'title': 'Brunei reports first coronavirus death', 'link': 'https://www.reuters.com/article/idUSKBN21D2TN/article/idUSL4N2BL018', 'img': 'https://source.unsplash.com/featured/?coronavirus'}, {'title': 'British PM Johnson tests positive for coronavirus', 'link': 'https://www.reuters.com/article/idUSKBN21D2TN/article/idUSL9N2BB00U', 'img': 'https://source.unsplash.com/featured/?coronavirus'}, {'title': 'Malaysia reports 130 new coronavirus cases', 'link': 'https://www.reuters.com/article/idUSKBN21D2TN/article/idUSL4N2BK2MX', 'img': 'https://source.unsplash.com/featured/?coronavirus'}, {'title': 'Kremlin says employee with coronavirus had no contact with Putin', 'link': 'https://www.reuters.com/article/idUSKBN21D2TN/article/idUSR4N2B401I', 'img': 'https://source.unsplash.com/featured/?coronavirus'}, {'title': 'Nicaragua reports first death from coronavirus', 'link': 'https://www.reuters.com/article/idUSKBN21D2TN/article/idUSL1N2BK026', 'img': 'https://source.unsplash.com/featured/?coronavirus'}, {'title': \"Spain's coronavirus death toll is stabilising - official\", 'link': 'https://www.reuters.com/article/idUSKBN21D2TN/article/idUSL8N2BK4AD', 'img': 'https://source.unsplash.com/featured/?coronavirus'}, {'title': 'California has tested 88,400 people for coronavirus - governor', 'link': 'https://www.reuters.com/article/idUSKBN21D2TN/article/idUSKBN21E3EG', 'img': 'https://source.unsplash.com/featured/?coronavirus'}, {'title': 'Pelosi says House to approve coronavirus bill on Friday', 'link': 'https://www.reuters.com/article/idUSKBN21D2TN/article/idUSKBN21E28U', 'img': 'https://source.unsplash.com/featured/?coronavirus'}, {'title': 'Lebanon in talks with IMF over help to combat coronavirus', 'link': 'https://www.reuters.com/article/idUSKBN21D2TN/article/idUSL1N2BK2GG', 'img': 'https://source.unsplash.com/featured/?coronavirus'}, {'title': 'At Delhi Border, Uttar Pradesh Buses Take Hungry And Jobless Migrants Back Home Amid Corona Lockdown ', 'link': 'https://www.newsnation.in/entertainment/bollywood/while-social-distancing-anushka-gives-virat-a-new-look-257208.html', 'img': 'https://static.newsnation.in/nn-web/images/lazy-loading.png'}, {'title': 'At Delhi Border, Uttar Pradesh Buses Take Hungry And Jobless Migrants Back Home Amid Corona Lockdown ', 'link': 'https://www.newsnation.in/india/news/coronavirs-tata-trusts-pledges-rs-500-crore-covid19-pandemic-257207.html', 'img': 'https://static.newsnation.in/nn-web/images/lazy-loading.png'}, {'title': 'At Delhi Border, Uttar Pradesh Buses Take Hungry And Jobless Migrants Back Home Amid Corona Lockdown ', 'link': 'https://www.newsnation.in/education/entrance-exams/nata-exam-2020-postponed-know-revised-application-date-here-257206.html', 'img': 'https://static.newsnation.in/nn-web/images/lazy-loading.png'}, {'title': 'At Delhi Border, Uttar Pradesh Buses Take Hungry And Jobless Migrants Back Home Amid Corona Lockdown ', 'link': 'https://www.newsnation.in/business/news/merger-of-allahabad-bank-indian-bank-delay-257205.html', 'img': 'https://static.newsnation.in/nn-web/images/lazy-loading.png'}, {'title': 'At Delhi Border, Uttar Pradesh Buses Take Hungry And Jobless Migrants Back Home Amid Corona Lockdown ', 'link': 'https://www.newsnation.in/lifestyle/health-and-fitness/coronavirus-what-are-four-stages-of-covid-19-transmission-stage-3-in-india-257204.html', 'img': 'https://static.newsnation.in/nn-web/images/lazy-loading.png'}, {'title': 'At Delhi Border, Uttar Pradesh Buses Take Hungry And Jobless Migrants Back Home Amid Corona Lockdown ', 'link': 'https://www.newsnation.in/world/news/coronavirus-us-eyes-new-outbreaks-as-infections-worldwide-top-575000-257203.html', 'img': 'https://static.newsnation.in/nn-web/images/lazy-loading.png'}, {'title': 'At Delhi Border, Uttar Pradesh Buses Take Hungry And Jobless Migrants Back Home Amid Corona Lockdown ', 'link': 'https://www.newsnation.in/india/news/seven-more-test-positive-covid19-kashmir-257202.html', 'img': 'https://static.newsnation.in/nn-web/images/lazy-loading.png'}, {'title': 'At Delhi Border, Uttar Pradesh Buses Take Hungry And Jobless Migrants Back Home Amid Corona Lockdown ', 'link': 'https://www.newsnation.in/india/news/covid19-patients-after-symptoms-disappear-study-257200.html', 'img': 'https://static.newsnation.in/nn-web/images/lazy-loading.png'}, {'title': 'At Delhi Border, Uttar Pradesh Buses Take Hungry And Jobless Migrants Back Home Amid Corona Lockdown ', 'link': 'https://www.newsnation.in/entertainment/television/we-want-shaktimaan-very-nostalgic-twitter-demands-doordarshan-to-bring-back-90s-superhero-257199.html', 'img': 'https://static.newsnation.in/nn-web/images/lazy-loading.png'}, {'title': 'At Delhi Border, Uttar Pradesh Buses Take Hungry And Jobless Migrants Back Home Amid Corona Lockdown ', 'link': 'https://www.newsnation.in/sports/other-sports/sai-online-workshop-athletes-coronavirus-pandemic-257198.html', 'img': 'https://static.newsnation.in/nn-web/images/lazy-loading.png'}, {'title': 'At Delhi Border, Uttar Pradesh Buses Take Hungry And Jobless Migrants Back Home Amid Corona Lockdown ', 'link': 'https://www.newsnation.in/sports/other-sports/us-olympics-monetary-crisis-coronavirus-tokyo-2020-olympics-257195.html', 'img': 'https://static.newsnation.in/nn-web/images/lazy-loading.png'}, {'title': 'At Delhi Border, Uttar Pradesh Buses Take Hungry And Jobless Migrants Back Home Amid Corona Lockdown ', 'link': 'https://www.newsnation.in/technology/tech/coronavirus-lockdown-how-to-get-tata-sky-7-day-balance-loan-257194.html', 'img': 'https://static.newsnation.in/nn-web/images/lazy-loading.png'}, {'title': 'At Delhi Border, Uttar Pradesh Buses Take Hungry And Jobless Migrants Back Home Amid Corona Lockdown ', 'link': 'https://www.newsnation.in/cities/delhi-and-ncr/noida-reports-five-new-coronavirus-cases-citiys-tally-jumps-to-23-more-housing-societies-sealed-257192.html', 'img': 'https://static.newsnation.in/nn-web/images/lazy-loading.png'}, {'title': 'At Delhi Border, Uttar Pradesh Buses Take Hungry And Jobless Migrants Back Home Amid Corona Lockdown ', 'link': 'https://www.newsnation.in/sports/cricket/ravi-shastri-india-cricket-team-coronavirus-257191.html', 'img': 'https://static.newsnation.in/nn-web/images/lazy-loading.png'}, {'title': 'At Delhi Border, Uttar Pradesh Buses Take Hungry And Jobless Migrants Back Home Amid Corona Lockdown ', 'link': 'https://www.newsnation.in/education/more/coronavirus-provide-all-assistance-to-students-staying-in-hostels-rahul-gandhi-to-hrd-minister-257190.html', 'img': 'https://static.newsnation.in/nn-web/images/lazy-loading.png'}]\n"
     ]
    }
   ],
   "source": [
    "import bs4\n",
    "from bs4 import BeautifulSoup\n",
    "import requests as rq\n",
    "\n",
    "nnlink='https://www.newsnation.in/topic/coronavirus-news/'\n",
    "headers = {\"User-Agent\": \"Mozilla/5.0 (Macintosh; Intel Mac OS X 10_14_5) AppleWebKit/537.36 (KHTML, like Gecko) Chrome/75.0.3770.100 Safari/537.36\"}\n",
    "nn=rq.get(nnlink,headers=headers)\n",
    "nnsoap=bs4.BeautifulSoup(nn.content,'html.parser')\n",
    "nndiv=nnsoap.find_all('div',class_='col-xs-12 col-sm-6 col-md-4 col-lg-4 col-xl-4 mt-2')\n",
    "for y in nndiv:\n",
    "    nna=y.a\n",
    "    nna=nna.get('href')\n",
    "    nna='https://www.newsnation.in'+nna\n",
    "    if(y.img):\n",
    "        nnimg=y.img\n",
    "        nnimg=nnimg.get('src')\n",
    "    else:\n",
    "        nnimg='https://source.unsplash.com/featured/?coronavirus'\n",
    "        nnt=y.h3\n",
    "        nnt=nnt.text\n",
    "    try:\n",
    "        r.append({'title':nnt,'link':nna,'img':nnimg})\n",
    "    except:\n",
    "        continue  \n",
    "print(r)    "
   ]
  },
  {
   "cell_type": "code",
   "execution_count": 6,
   "metadata": {},
   "outputs": [
    {
     "name": "stdout",
     "output_type": "stream",
     "text": [
      "[{'title': 'While Social Distancing, Anushka Gives Virat A New Look!', 'link': 'https://www.newsnation.in/entertainment/bollywood/while-social-distancing-anushka-gives-virat-a-new-look-257208.html', 'img': 'https://static.newsnation.in/nn-web/images/lazy-loading.png'}, {'title': 'Tata Trusts Pledges Rs 500 Crore To Tackle Coronavirus Pandemic', 'link': 'https://www.newsnation.in/india/news/coronavirs-tata-trusts-pledges-rs-500-crore-covid19-pandemic-257207.html', 'img': 'https://static.newsnation.in/nn-web/images/lazy-loading.png'}, {'title': 'NATA Exam 2020 Postponed, Know Revised Application Date Here', 'link': 'https://www.newsnation.in/education/entrance-exams/nata-exam-2020-postponed-know-revised-application-date-here-257206.html', 'img': 'https://static.newsnation.in/nn-web/images/lazy-loading.png'}, {'title': 'Merger Process Of Allahabad Bank, Indian Bank Might Face Slight Delay: Official', 'link': 'https://www.newsnation.in/business/news/merger-of-allahabad-bank-indian-bank-delay-257205.html', 'img': 'https://static.newsnation.in/nn-web/images/lazy-loading.png'}, {'title': 'Coronavirus: As India Braces For Stage 3, What Are Four Stages Of COVID-19 Transmission', 'link': 'https://www.newsnation.in/lifestyle/health-and-fitness/coronavirus-what-are-four-stages-of-covid-19-transmission-stage-3-in-india-257204.html', 'img': 'https://static.newsnation.in/nn-web/images/lazy-loading.png'}, {'title': 'Coronavirus: US Eyes New Outbreaks As Infections Worldwide Top 575,000', 'link': 'https://www.newsnation.in/world/news/coronavirus-us-eyes-new-outbreaks-as-infections-worldwide-top-575000-257203.html', 'img': 'https://static.newsnation.in/nn-web/images/lazy-loading.png'}, {'title': 'Seven More People Test Positive For COVID-19 In Kashmir, Total Number Of Positive Cases Rises To 27', 'link': 'https://www.newsnation.in/india/news/seven-more-test-positive-covid19-kashmir-257202.html', 'img': 'https://static.newsnation.in/nn-web/images/lazy-loading.png'}, {'title': 'COVID-19 Patients May Still Have Coronavirus After Symptoms Disappear: Study', 'link': 'https://www.newsnation.in/india/news/covid19-patients-after-symptoms-disappear-study-257200.html', 'img': 'https://static.newsnation.in/nn-web/images/lazy-loading.png'}, {'title': \"We Want Shaktimaan! Very Nostalgic Twitter Demands Doordarshan To bring Back 90's Superhero \", 'link': 'https://www.newsnation.in/entertainment/television/we-want-shaktimaan-very-nostalgic-twitter-demands-doordarshan-to-bring-back-90s-superhero-257199.html', 'img': 'https://static.newsnation.in/nn-web/images/lazy-loading.png'}, {'title': 'Pullela Gopichand Praises SAI Online Workshop For Athletes In Times Of Coronavirus', 'link': 'https://www.newsnation.in/sports/other-sports/sai-online-workshop-athletes-coronavirus-pandemic-257198.html', 'img': 'https://static.newsnation.in/nn-web/images/lazy-loading.png'}, {'title': 'US Olympic Sports Faces Monetary Crisis After Coronavirus Postpones Tokyo 2020 Olympics', 'link': 'https://www.newsnation.in/sports/other-sports/us-olympics-monetary-crisis-coronavirus-tokyo-2020-olympics-257195.html', 'img': 'https://static.newsnation.in/nn-web/images/lazy-loading.png'}, {'title': \"Coronavirus Lockdown: Tata Sky Is Giving 7-Day Balance Loan To Deactivated Accounts, Here's How To Get It\", 'link': 'https://www.newsnation.in/technology/tech/coronavirus-lockdown-how-to-get-tata-sky-7-day-balance-loan-257194.html', 'img': 'https://static.newsnation.in/nn-web/images/lazy-loading.png'}, {'title': 'Noida Reports 5 New Coronavirus Cases, City Tally Jumps To 23, More Housing Societies Sealed ', 'link': 'https://www.newsnation.in/cities/delhi-and-ncr/noida-reports-five-new-coronavirus-cases-citiys-tally-jumps-to-23-more-housing-societies-sealed-257192.html', 'img': 'https://static.newsnation.in/nn-web/images/lazy-loading.png'}, {'title': \"Coronavirus Break In Cricket A 'Welcome Rest' For India Players: Ravi Shastri\", 'link': 'https://www.newsnation.in/sports/cricket/ravi-shastri-india-cricket-team-coronavirus-257191.html', 'img': 'https://static.newsnation.in/nn-web/images/lazy-loading.png'}, {'title': 'Coronavirus | Provide All Assistance To Students Staying In Hostels: Rahul Gandhi To HRD Minister', 'link': 'https://www.newsnation.in/education/more/coronavirus-provide-all-assistance-to-students-staying-in-hostels-rahul-gandhi-to-hrd-minister-257190.html', 'img': 'https://static.newsnation.in/nn-web/images/lazy-loading.png'}]\n"
     ]
    }
   ],
   "source": [
    "import bs4\n",
    "from bs4 import BeautifulSoup\n",
    "import requests as rq\n",
    "\n",
    "nnlink='https://www.newsnation.in/topic/coronavirus-news/'\n",
    "headers = {\"User-Agent\": \"Mozilla/5.0 (Macintosh; Intel Mac OS X 10_14_5) AppleWebKit/537.36 (KHTML, like Gecko) Chrome/75.0.3770.100 Safari/537.36\"}\n",
    "nn=rq.get(nnlink,headers=headers)\n",
    "nnsoap=bs4.BeautifulSoup(nn.content,'html.parser')\n",
    "nndiv=nnsoap.find_all('div',class_='col-xs-12 col-sm-6 col-md-4 col-lg-4 col-xl-4 mt-2')\n",
    "\n",
    "r=[]\n",
    "\n",
    "for y in nndiv:\n",
    "    nna=y.a\n",
    "    nna=nna.get('href')\n",
    "    nna='https://www.newsnation.in'+nna\n",
    "    if(y.img):\n",
    "        nnimg=y.img\n",
    "        nnimg=nnimg.get('src')\n",
    "    else:\n",
    "        nnimg='https://source.unsplash.com/featured/?coronavirus'\n",
    "    nnt=y.h3\n",
    "    nnt=nnt.text\n",
    "    try:\n",
    "        r.append({'title':nnt,'link':nna,'img':nnimg})\n",
    "    except:\n",
    "        continue\n",
    "print(r)"
   ]
  },
  {
   "cell_type": "code",
   "execution_count": null,
   "metadata": {},
   "outputs": [],
   "source": []
  }
 ],
 "metadata": {
  "kernelspec": {
   "display_name": "Python 3",
   "language": "python",
   "name": "python3"
  },
  "language_info": {
   "codemirror_mode": {
    "name": "ipython",
    "version": 3
   },
   "file_extension": ".py",
   "mimetype": "text/x-python",
   "name": "python",
   "nbconvert_exporter": "python",
   "pygments_lexer": "ipython3",
   "version": "3.7.4"
  }
 },
 "nbformat": 4,
 "nbformat_minor": 4
}
